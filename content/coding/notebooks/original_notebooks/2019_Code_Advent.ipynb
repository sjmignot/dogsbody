{
 "cells": [
  {
   "cell_type": "markdown",
   "metadata": {},
   "source": [
    "# Advent of Code 2019 Python Solutions\n",
    "\n",
    "Samuel Mignot's solution for [the 2019 Advent of Code challenge](https://adventofcode.com/). \n",
    "\n",
    "Have yet to get through the entire challenge, but slowly working my way throuh it.\n",
    "The intcode computer, which is created and used in multiple challenges, is abstracted into an intcomp.py file.\n",
    "\n"
   ]
  },
  {
   "cell_type": "markdown",
   "metadata": {},
   "source": [
    "## Global Setup\n",
    "\n",
    "Handles imports, notebook magic, and notebook-wide constants"
   ]
  },
  {
   "cell_type": "markdown",
   "metadata": {},
   "source": [
    "### imports"
   ]
  },
  {
   "cell_type": "code",
   "execution_count": 7,
   "metadata": {},
   "outputs": [],
   "source": [
    "import string\n",
    "import numpy as np\n",
    "from itertools import cycle\n",
    "import requests\n",
    "import collections\n",
    "from collections import deque\n",
    "from pprint import pprint\n",
    "import operator\n",
    "from time import sleep\n",
    "import itertools\n",
    "import re\n",
    "import functools\n",
    "from functools import reduce\n",
    "from dataclasses import dataclass\n",
    "from copy import deepcopy\n",
    "import networkx as nx\n",
    "import matplotlib.pyplot as plt\n",
    "import intcomp"
   ]
  },
  {
   "cell_type": "markdown",
   "metadata": {},
   "source": [
    "### notebook magic "
   ]
  },
  {
   "cell_type": "code",
   "execution_count": 8,
   "metadata": {},
   "outputs": [],
   "source": [
    "%matplotlib widget"
   ]
  },
  {
   "cell_type": "markdown",
   "metadata": {},
   "source": [
    "### constants"
   ]
  },
  {
   "cell_type": "code",
   "execution_count": 9,
   "metadata": {},
   "outputs": [],
   "source": [
    "LOWERCASE = string.ascii_lowercase\n",
    "UPPERCASE = string.ascii_uppercase"
   ]
  },
  {
   "cell_type": "markdown",
   "metadata": {},
   "source": [
    "### helpers"
   ]
  },
  {
   "cell_type": "code",
   "execution_count": 10,
   "metadata": {},
   "outputs": [],
   "source": [
    "def get_level_input(lvl_num):\n",
    "    with open(f\"advent_inputs/{lvl_num}.txt\") as f:\n",
    "        level_input=f.read()\n",
    "        return level_input\n",
    "    \n",
    "def print_result(answer):\n",
    "    pprint(\"RESULT: \"+str(answer))\n",
    "    print()\n",
    "    pprint(\"TIME\"+\".\"*60)\n",
    "    \n",
    "class StopExecution(Exception):\n",
    "    def _render_traceback_(self):\n",
    "        pass"
   ]
  },
  {
   "cell_type": "markdown",
   "metadata": {},
   "source": [
    "## Day 1: The Tyranny of the Rocket Equation"
   ]
  },
  {
   "cell_type": "markdown",
   "metadata": {},
   "source": [
    "### setup"
   ]
  },
  {
   "cell_type": "code",
   "execution_count": 11,
   "metadata": {},
   "outputs": [],
   "source": [
    "module_weights = get_level_input(\"01\").splitlines()\n",
    "module_weights = list(map(int, module_weights))"
   ]
  },
  {
   "cell_type": "markdown",
   "metadata": {},
   "source": [
    "### part one"
   ]
  },
  {
   "cell_type": "code",
   "execution_count": 12,
   "metadata": {},
   "outputs": [
    {
     "name": "stdout",
     "output_type": "stream",
     "text": [
      "'RESULT: 3432671'\n",
      "\n",
      "'TIME............................................................'\n",
      "CPU times: user 128 µs, sys: 34 µs, total: 162 µs\n",
      "Wall time: 145 µs\n"
     ]
    }
   ],
   "source": [
    "%%time\n",
    "total_weight = sum([x//3 - 2 for x in module_weights])\n",
    "print_result(total_weight)"
   ]
  },
  {
   "cell_type": "markdown",
   "metadata": {},
   "source": [
    "### part two"
   ]
  },
  {
   "cell_type": "code",
   "execution_count": 13,
   "metadata": {},
   "outputs": [
    {
     "name": "stdout",
     "output_type": "stream",
     "text": [
      "'RESULT: 5146132'\n",
      "\n",
      "'TIME............................................................'\n",
      "CPU times: user 373 µs, sys: 47 µs, total: 420 µs\n",
      "Wall time: 397 µs\n"
     ]
    }
   ],
   "source": [
    "%%time\n",
    "\n",
    "def weight_of_weight_gen(m_weight):\n",
    "    while m_weight>0:\n",
    "        yield m_weight\n",
    "        m_weight = m_weight//3 - 2\n",
    "    \n",
    "def get_req_fuel(m_weight): \n",
    "    return sum([i for i in weight_of_weight_gen(m_weight)][1:])\n",
    "    \n",
    "total_weight = sum([get_req_fuel(x) for x in module_weights])\n",
    "print_result(total_weight)"
   ]
  },
  {
   "cell_type": "markdown",
   "metadata": {},
   "source": [
    "## Day 2: 1202 Program Alarm"
   ]
  },
  {
   "cell_type": "markdown",
   "metadata": {},
   "source": [
    "### setup"
   ]
  },
  {
   "cell_type": "code",
   "execution_count": 14,
   "metadata": {},
   "outputs": [],
   "source": [
    "comp_string = get_level_input(\"02\")\n",
    "comp_string = list(map(int, comp_string.split(',')))"
   ]
  },
  {
   "cell_type": "markdown",
   "metadata": {},
   "source": [
    "### part one"
   ]
  },
  {
   "cell_type": "code",
   "execution_count": 15,
   "metadata": {},
   "outputs": [
    {
     "name": "stdout",
     "output_type": "stream",
     "text": [
      "'RESULT: 5290681'\n",
      "\n",
      "'TIME............................................................'\n",
      "CPU times: user 582 µs, sys: 271 µs, total: 853 µs\n",
      "Wall time: 608 µs\n"
     ]
    }
   ],
   "source": [
    "%%time\n",
    "\n",
    "comp_string_prog = comp_string[:]\n",
    "comp_string_prog[1] = 12\n",
    "comp_string_prog[2] = 2\n",
    "res = intcomp.run_computer(comp_string_prog, [])\n",
    "print_result(comp_string_prog[0])"
   ]
  },
  {
   "cell_type": "markdown",
   "metadata": {},
   "source": [
    "### part two "
   ]
  },
  {
   "cell_type": "code",
   "execution_count": null,
   "metadata": {},
   "outputs": [],
   "source": [
    "%%time\n",
    "\n",
    "TARGET = 19690720\n",
    "NOUN_POS = 1\n",
    "VERB_POS = 2\n",
    "    \n",
    "def find_noun_verb(comp_string):\n",
    "    for noun in range(100):\n",
    "        for verb in range(100):\n",
    "            comp_string_copy = comp_string[:]\n",
    "            comp_string_copy[NOUN_POS] = noun\n",
    "            comp_string_copy[VERB_POS] = verb\n",
    "            res = intcomp.run_computer(comp_string_copy, []) \n",
    "            if comp_string_copy[0] == -1: continue \n",
    "            if(comp_string_copy[0] == TARGET): return noun,verb\n",
    "\n",
    "noun, verb = find_noun_verb(list(comp_string))\n",
    "\n",
    "print_result(100 * noun + verb)"
   ]
  },
  {
   "cell_type": "markdown",
   "metadata": {},
   "source": [
    "## Day 3: Crossed Wires "
   ]
  },
  {
   "cell_type": "markdown",
   "metadata": {
    "toc-hr-collapsed": true,
    "toc-nb-collapsed": true
   },
   "source": [
    "### setup"
   ]
  },
  {
   "cell_type": "code",
   "execution_count": 11,
   "metadata": {},
   "outputs": [],
   "source": [
    "wires_input = get_level_input(\"03\").splitlines()\n",
    "wires_input = [x.split(',') for x in wires_input]\n",
    "\n",
    "X = 1\n",
    "Y = 0\n",
    "CENTER_POINT = (0,0)\n",
    "\n",
    "def md(p1, p2):\n",
    "    return (abs(p1[X]-p2[X]) + abs(p1[Y]-p2[Y]))"
   ]
  },
  {
   "cell_type": "markdown",
   "metadata": {},
   "source": [
    "### part one"
   ]
  },
  {
   "cell_type": "code",
   "execution_count": 12,
   "metadata": {},
   "outputs": [
    {
     "name": "stdout",
     "output_type": "stream",
     "text": [
      "'RESULT: 225'\n",
      "\n",
      "'TIME............................................................'\n",
      "CPU times: user 302 ms, sys: 20.5 ms, total: 322 ms\n",
      "Wall time: 323 ms\n"
     ]
    }
   ],
   "source": [
    "%%time\n",
    "\n",
    "def generate_wire(instructions):\n",
    "    wire = [CENTER_POINT]\n",
    "    for x in instructions:\n",
    "        cur_point = wire[-1]\n",
    "        wire += {\n",
    "         'U': [(cur_point[Y]-i, cur_point[X]) for i in range(1, int(x[1:])+1)],\n",
    "         'D': [(cur_point[Y]+i, cur_point[X]) for i in range(1, int(x[1:])+1)],\n",
    "         'L': [(cur_point[Y], cur_point[X]-i) for i in range(1, int(x[1:])+1)],\n",
    "         'R': [(cur_point[Y], cur_point[X]+i) for i in range(1, int(x[1:])+1)]\n",
    "        }[x[0]]\n",
    "    return wire\n",
    "                                  \n",
    "    \n",
    "wires = [set(generate_wire(w_i))-{CENTER_POINT} for w_i in wires_input]\n",
    "res = min([md(x, CENTER_POINT) for x in set.intersection(*wires)])\n",
    "print_result(res)"
   ]
  },
  {
   "cell_type": "markdown",
   "metadata": {},
   "source": [
    "### part two"
   ]
  },
  {
   "cell_type": "code",
   "execution_count": 13,
   "metadata": {},
   "outputs": [
    {
     "name": "stdout",
     "output_type": "stream",
     "text": [
      "'RESULT: 35194'\n",
      "\n",
      "'TIME............................................................'\n",
      "CPU times: user 449 ms, sys: 19.5 ms, total: 468 ms\n",
      "Wall time: 470 ms\n"
     ]
    }
   ],
   "source": [
    "%%time\n",
    "\n",
    "wires = [generate_wire(w_i) for w_i in wires_input]\n",
    "intersections = set.intersection(*[set(wire) for wire in wires])-{CENTER_POINT}\n",
    "res = min([wires[0].index(x)+wires[1].index(x) for x in intersections])\n",
    "print_result(res)"
   ]
  },
  {
   "cell_type": "markdown",
   "metadata": {},
   "source": [
    "## Day 4: Secure Container"
   ]
  },
  {
   "cell_type": "markdown",
   "metadata": {},
   "source": [
    "### setup"
   ]
  },
  {
   "cell_type": "code",
   "execution_count": 14,
   "metadata": {},
   "outputs": [],
   "source": [
    "r_low, r_high = map(int, get_level_input(\"04\").split(\"-\"))\n",
    "\n",
    "def check_value(val, functions):\n",
    "    num_list = [int(i) for i in list(str(val))]\n",
    "    return (all(f(num_list) for f in functions))"
   ]
  },
  {
   "cell_type": "markdown",
   "metadata": {},
   "source": [
    "### part one"
   ]
  },
  {
   "cell_type": "code",
   "execution_count": 15,
   "metadata": {},
   "outputs": [
    {
     "name": "stdout",
     "output_type": "stream",
     "text": [
      "'RESULT: 1694'\n",
      "\n",
      "'TIME............................................................'\n",
      "CPU times: user 1.74 s, sys: 10.6 ms, total: 1.75 s\n",
      "Wall time: 1.76 s\n"
     ]
    }
   ],
   "source": [
    "%%time\n",
    "\n",
    "def check_increase(l):\n",
    "    return all(l[i] <= l[i+1] for i in range(len(l)-1))\n",
    "\n",
    "def check_double(l):\n",
    "    return any(l[i] == l[i+1] for i in range(len(l)-1))\n",
    "\n",
    "num_poss_pass = 0\n",
    "for num in range(r_low, r_high+1):\n",
    "    if(check_value(num, [check_increase, check_double])): num_poss_pass+=1\n",
    "\n",
    "print_result(num_poss_pass)"
   ]
  },
  {
   "cell_type": "markdown",
   "metadata": {},
   "source": [
    "### part two "
   ]
  },
  {
   "cell_type": "code",
   "execution_count": 16,
   "metadata": {},
   "outputs": [
    {
     "name": "stdout",
     "output_type": "stream",
     "text": [
      "'RESULT: 1148'\n",
      "\n",
      "'TIME............................................................'\n",
      "CPU times: user 2.6 s, sys: 13.9 ms, total: 2.61 s\n",
      "Wall time: 2.63 s\n"
     ]
    }
   ],
   "source": [
    "%%time\n",
    "\n",
    "def check_increase(l):\n",
    "    return all(l[i] <= l[i+1] for i in range(len(l)-1))\n",
    "\n",
    "def check_ungrouped_double(l):\n",
    "    l = [-1] + l +[-1]\n",
    "    return any(l[i-1] != l[i] == l[i+1] != l[i+2] for i in range(1, len(l)-1))\n",
    "\n",
    "num_poss_pass = 0\n",
    "for num in range(r_low, r_high+1):\n",
    "    num_list = [int(i) for i in list(str(num))]\n",
    "    if(check_value(num, [check_increase, check_ungrouped_double])): num_poss_pass += 1\n",
    "\n",
    "print_result(num_poss_pass)"
   ]
  },
  {
   "cell_type": "markdown",
   "metadata": {},
   "source": [
    "## Day 5: Sunny with a Chance of Asteroids"
   ]
  },
  {
   "cell_type": "markdown",
   "metadata": {},
   "source": [
    "### setup"
   ]
  },
  {
   "cell_type": "code",
   "execution_count": 17,
   "metadata": {},
   "outputs": [],
   "source": [
    "comp_string = get_level_input(\"05\")\n",
    "comp_string = list(map(int, comp_string.split(',')))"
   ]
  },
  {
   "cell_type": "markdown",
   "metadata": {},
   "source": [
    "### part one"
   ]
  },
  {
   "cell_type": "code",
   "execution_count": 18,
   "metadata": {},
   "outputs": [
    {
     "name": "stdout",
     "output_type": "stream",
     "text": [
      "'RESULT: 10987514'\n",
      "\n",
      "'TIME............................................................'\n",
      "CPU times: user 288 µs, sys: 19 µs, total: 307 µs\n",
      "Wall time: 297 µs\n"
     ]
    }
   ],
   "source": [
    "%%time\n",
    "\n",
    "_, outputs = intcomp.run_computer(comp_string[:], [1])\n",
    "print_result(outputs[-1])"
   ]
  },
  {
   "cell_type": "markdown",
   "metadata": {},
   "source": [
    "### part two "
   ]
  },
  {
   "cell_type": "code",
   "execution_count": 19,
   "metadata": {},
   "outputs": [
    {
     "name": "stdout",
     "output_type": "stream",
     "text": [
      "'RESULT: 14195011'\n",
      "\n",
      "'TIME............................................................'\n",
      "CPU times: user 643 µs, sys: 156 µs, total: 799 µs\n",
      "Wall time: 681 µs\n"
     ]
    }
   ],
   "source": [
    "%%time\n",
    "\n",
    "_, outputs = intcomp.run_computer(comp_string[:], [5])\n",
    "print_result(outputs[0])"
   ]
  },
  {
   "cell_type": "markdown",
   "metadata": {},
   "source": [
    "## Day 6: Universal Orbit Map"
   ]
  },
  {
   "cell_type": "markdown",
   "metadata": {},
   "source": [
    "### setup "
   ]
  },
  {
   "cell_type": "code",
   "execution_count": 20,
   "metadata": {},
   "outputs": [],
   "source": [
    "orbits = get_level_input(\"06\").splitlines()\n",
    "orbits = [orbit.split(')') for orbit in orbits]"
   ]
  },
  {
   "cell_type": "markdown",
   "metadata": {},
   "source": [
    "### part one"
   ]
  },
  {
   "cell_type": "code",
   "execution_count": 21,
   "metadata": {},
   "outputs": [
    {
     "name": "stdout",
     "output_type": "stream",
     "text": [
      "'RESULT: 144909'\n",
      "\n",
      "'TIME............................................................'\n",
      "CPU times: user 428 ms, sys: 5.79 ms, total: 434 ms\n",
      "Wall time: 437 ms\n"
     ]
    }
   ],
   "source": [
    "%%time\n",
    "\n",
    "orbit_graph = nx.DiGraph()\n",
    "for orbit in orbits:\n",
    "    orbit_graph.add_edge(*orbit)\n",
    "\n",
    "orbit_checksum = sum([len(nx.descendants(orbit_graph, node)) for node in orbit_graph.nodes()])\n",
    "\n",
    "print_result(orbit_checksum)"
   ]
  },
  {
   "cell_type": "markdown",
   "metadata": {},
   "source": [
    "### part two "
   ]
  },
  {
   "cell_type": "code",
   "execution_count": 22,
   "metadata": {},
   "outputs": [
    {
     "name": "stdout",
     "output_type": "stream",
     "text": [
      "'RESULT: 259'\n",
      "\n",
      "'TIME............................................................'\n"
     ]
    }
   ],
   "source": [
    "TARGET = \"SAN\"\n",
    "START = \"YOU\"\n",
    "\n",
    "orbit_graph = nx.Graph()\n",
    "for orbit in orbits:\n",
    "    orbit_graph.add_edge(*orbit)\n",
    "\n",
    "START_SR = list(orbit_graph.neighbors(START))[0]\n",
    "SAN_SR = list(orbit_graph.neighbors(TARGET))[0]\n",
    "\n",
    "print_result(nx.shortest_path_length(orbit_graph, str(START_SR), str(SAN_SR)))\n",
    "    "
   ]
  },
  {
   "cell_type": "markdown",
   "metadata": {},
   "source": [
    "## Day 7: Amplification Circuit"
   ]
  },
  {
   "cell_type": "markdown",
   "metadata": {},
   "source": [
    "### setup "
   ]
  },
  {
   "cell_type": "code",
   "execution_count": 23,
   "metadata": {},
   "outputs": [],
   "source": [
    "amp_prog = get_level_input(\"07\")\n",
    "amp_prog = list(map(int, amp_prog.split(',')))\n",
    "NUM_AMPS = 5"
   ]
  },
  {
   "cell_type": "markdown",
   "metadata": {},
   "source": [
    "### part one"
   ]
  },
  {
   "cell_type": "code",
   "execution_count": 24,
   "metadata": {},
   "outputs": [
    {
     "name": "stdout",
     "output_type": "stream",
     "text": [
      "'RESULT: 21760'\n",
      "\n",
      "'TIME............................................................'\n",
      "CPU times: user 20.2 ms, sys: 1.01 ms, total: 21.2 ms\n",
      "Wall time: 20.5 ms\n"
     ]
    }
   ],
   "source": [
    "%%time\n",
    "\n",
    "amp_pos = list(itertools.permutations(list(range(NUM_AMPS))))\n",
    "\n",
    "max_val = 0\n",
    "\n",
    "for perm in amp_pos:\n",
    "    inputs = [perm[0], 0]\n",
    "    for i in range(NUM_AMPS):\n",
    "        inputs = [perm[i+1] if i+1<NUM_AMPS else 0, intcomp.run_computer(amp_prog[:], inputs)[1][0]]\n",
    "        if(inputs[1]>max_val):\n",
    "            max_val = inputs[1]\n",
    "        \n",
    "print_result(max_val)"
   ]
  },
  {
   "cell_type": "markdown",
   "metadata": {},
   "source": [
    "### part two"
   ]
  },
  {
   "cell_type": "code",
   "execution_count": 25,
   "metadata": {},
   "outputs": [
    {
     "name": "stdout",
     "output_type": "stream",
     "text": [
      "'RESULT: 69816958'\n",
      "\n",
      "'TIME............................................................'\n",
      "CPU times: user 252 ms, sys: 3.48 ms, total: 255 ms\n",
      "Wall time: 256 ms\n"
     ]
    }
   ],
   "source": [
    "%%time\n",
    "\n",
    "amp_pos = list(itertools.permutations(list(range(NUM_AMPS, NUM_AMPS+5))))\n",
    "\n",
    "signals = []\n",
    "for perm in amp_pos:\n",
    "    i = 0\n",
    "    inputs = [[perm[j]] for j in range(NUM_AMPS)]\n",
    "    inputs[0].append(0)\n",
    "    last_e = 0\n",
    "    amp_progs = [deepcopy(amp_prog) for j in range(NUM_AMPS)]\n",
    "    ips = [0 for j in range(NUM_AMPS)]\n",
    "    while(True):\n",
    "        ips[i%NUM_AMPS], outputs = intcomp.run_computer(amp_progs[i%NUM_AMPS], inputs[i%NUM_AMPS], ip=ips[i%NUM_AMPS], return_on_output=True)\n",
    "        if outputs == []:\n",
    "            break\n",
    "        if(i%NUM_AMPS == 4):\n",
    "            last_e = outputs[0]\n",
    "        i+=1\n",
    "        inputs[i%NUM_AMPS].append(outputs[0])\n",
    "    signals.append(last_e)\n",
    "        \n",
    "print_result(max(signals))"
   ]
  },
  {
   "cell_type": "markdown",
   "metadata": {},
   "source": [
    "## Day 8: Space Image Format"
   ]
  },
  {
   "cell_type": "markdown",
   "metadata": {},
   "source": [
    "### setup "
   ]
  },
  {
   "cell_type": "code",
   "execution_count": 26,
   "metadata": {},
   "outputs": [],
   "source": [
    "img = list(get_level_input(\"08\"))\n",
    "img = list(map(int, img))\n",
    "IMG_W = 25\n",
    "IMG_H = 6"
   ]
  },
  {
   "cell_type": "markdown",
   "metadata": {},
   "source": [
    "### part one"
   ]
  },
  {
   "cell_type": "code",
   "execution_count": 27,
   "metadata": {},
   "outputs": [
    {
     "name": "stdout",
     "output_type": "stream",
     "text": [
      "'RESULT: 1360'\n",
      "\n",
      "'TIME............................................................'\n",
      "CPU times: user 2.36 ms, sys: 314 µs, total: 2.67 ms\n",
      "Wall time: 2.46 ms\n"
     ]
    }
   ],
   "source": [
    "%%time\n",
    "arr_img = np.array(img)\n",
    "lay_img = np.reshape(arr_img, (-1, IMG_H, IMG_W))\n",
    "\n",
    "max_zero_index = np.argmin([(lay_img[i,:,:]==0).sum() for i in range(lay_img.shape[0])])\n",
    "\n",
    "max_zero_layer = lay_img[max_zero_index, :, :]\n",
    "NUM_1_BY_2 = (max_zero_layer == 1).sum() * (max_zero_layer == 2).sum()\n",
    "print_result(NUM_1_BY_2)"
   ]
  },
  {
   "cell_type": "markdown",
   "metadata": {},
   "source": [
    "### part two"
   ]
  },
  {
   "cell_type": "code",
   "execution_count": 28,
   "metadata": {},
   "outputs": [
    {
     "name": "stdout",
     "output_type": "stream",
     "text": [
      "XXXX.XXX..X..X..XX..XXX..\n",
      "X....X..X.X..X.X..X.X..X.\n",
      "XXX..X..X.X..X.X..X.X..X.\n",
      "X....XXX..X..X.XXXX.XXX..\n",
      "X....X....X..X.X..X.X.X..\n",
      "X....X.....XX..X..X.X..X.\n",
      "\n",
      "CPU times: user 3.25 ms, sys: 1.43 ms, total: 4.69 ms\n",
      "Wall time: 3.42 ms\n"
     ]
    }
   ],
   "source": [
    "%%time\n",
    "BLACK = 0 \n",
    "WHITE = 1 \n",
    "TRANS = 2\n",
    "\n",
    "arr_img = np.array(img)\n",
    "lay_img = np.reshape(arr_img, (-1, IMG_H, IMG_W))\n",
    "\n",
    "final_image = np.full((IMG_H, IMG_W), 2)\n",
    "\n",
    "spears = [lay_img[:, col, row] for col in range(lay_img.shape[1]) for row in range(lay_img.shape[2])]\n",
    "\n",
    "first_non_transparent = [spear[np.argmax(spear!=2)] for spear in spears]\n",
    "message = np.array(first_non_transparent).reshape((IMG_H, IMG_W))\n",
    "for row in message:\n",
    "    row = np.where(row==0, '.', row) \n",
    "    row = np.where(row=='1', 'X', row) \n",
    "    print(\"\".join(row))\n",
    "print()"
   ]
  },
  {
   "cell_type": "markdown",
   "metadata": {},
   "source": [
    "## Day 9: Sensor Boost"
   ]
  },
  {
   "cell_type": "markdown",
   "metadata": {},
   "source": [
    "### setup"
   ]
  },
  {
   "cell_type": "code",
   "execution_count": 29,
   "metadata": {},
   "outputs": [],
   "source": [
    "# GET LEVEL INPUT\n",
    "boost_prog_raw = get_level_input(\"09\")\n",
    "boost_prog_list = list(map(int, boost_prog_raw.split(',')))\n",
    "boost_prog = tuple(boost_prog_list)"
   ]
  },
  {
   "cell_type": "markdown",
   "metadata": {},
   "source": [
    "### part one"
   ]
  },
  {
   "cell_type": "code",
   "execution_count": 30,
   "metadata": {},
   "outputs": [
    {
     "name": "stdout",
     "output_type": "stream",
     "text": [
      "'RESULT: 2204990589'\n",
      "\n",
      "'TIME............................................................'\n",
      "CPU times: user 1.58 ms, sys: 131 µs, total: 1.71 ms\n",
      "Wall time: 1.71 ms\n"
     ]
    }
   ],
   "source": [
    "%%time\n",
    "BOOST_INPUT = 1\n",
    "\n",
    "_, outputs = intcomp.run_computer(list(boost_prog)+[0 for x in range(9999)], [BOOST_INPUT])\n",
    "print_result(outputs[0])"
   ]
  },
  {
   "cell_type": "markdown",
   "metadata": {},
   "source": [
    "### part two "
   ]
  },
  {
   "cell_type": "code",
   "execution_count": 31,
   "metadata": {},
   "outputs": [
    {
     "name": "stdout",
     "output_type": "stream",
     "text": [
      "'RESULT: 50008'\n",
      "\n",
      "'TIME............................................................'\n",
      "CPU times: user 1.18 s, sys: 8.55 ms, total: 1.19 s\n",
      "Wall time: 1.2 s\n"
     ]
    }
   ],
   "source": [
    "%%time\n",
    "SENSOR_MODE = 2\n",
    "\n",
    "_, outputs = intcomp.run_computer(list(boost_prog)+[0 for x in range(9999)], [SENSOR_MODE])\n",
    "print_result(outputs[0])"
   ]
  },
  {
   "cell_type": "markdown",
   "metadata": {},
   "source": [
    "## Day 10: Monitoring Station "
   ]
  },
  {
   "cell_type": "markdown",
   "metadata": {},
   "source": [
    "### setup "
   ]
  },
  {
   "cell_type": "code",
   "execution_count": 32,
   "metadata": {},
   "outputs": [],
   "source": [
    "asteroids = get_level_input(\"10\").splitlines()\n",
    "asteroid_grid = np.array([np.array(list(belt)) for belt in asteroids])\n",
    "asteroid_set = frozenset(zip(*np.where(asteroid_grid == '#')[::-1]))\n",
    "\n",
    "X = 0\n",
    "Y = 1\n",
    "\n",
    "sort_order = {\n",
    "    '+': 1,\n",
    "    '-': -1\n",
    "}\n",
    "\n",
    "def calc_slope(p1, p2):\n",
    "    if(p1[X]-p2[X] == 0):\n",
    "        return (np.inf, '+' if (p1[Y]-p2[Y]) < 0 else '-')\n",
    "    if(p1[Y]-p2[Y]==0):\n",
    "        return (0, '-' if (p1[X]-p2[X]) > 0 else '+')\n",
    "    return ((p1[Y]-p2[Y])/(p1[X]-p2[X]), '-' if (p1[X]-p2[X]) > 0 else '+')"
   ]
  },
  {
   "cell_type": "markdown",
   "metadata": {},
   "source": [
    "### part one"
   ]
  },
  {
   "cell_type": "code",
   "execution_count": 33,
   "metadata": {},
   "outputs": [
    {
     "name": "stdout",
     "output_type": "stream",
     "text": [
      "'RESULT: 284 asteroids visible at (20, 19)'\n",
      "\n",
      "'TIME............................................................'\n",
      "CPU times: user 299 ms, sys: 5.79 ms, total: 305 ms\n",
      "Wall time: 307 ms\n"
     ]
    }
   ],
   "source": [
    "%%time\n",
    "\n",
    "visible_sets = [(asteroid, set(map(calc_slope, itertools.repeat(asteroid), asteroid_set-{asteroid}))) for asteroid in asteroid_set]\n",
    "  \n",
    "monitoring_location, visible_asteroids = max(visible_sets, key = lambda x: len(x[1]))\n",
    "print_result(f\"{len(visible_asteroids)} asteroids visible at {monitoring_location}\")"
   ]
  },
  {
   "cell_type": "markdown",
   "metadata": {},
   "source": [
    "### part two "
   ]
  },
  {
   "cell_type": "code",
   "execution_count": 34,
   "metadata": {},
   "outputs": [
    {
     "name": "stdout",
     "output_type": "stream",
     "text": [
      "'RESULT: 404'\n",
      "\n",
      "'TIME............................................................'\n",
      "CPU times: user 2.63 ms, sys: 376 µs, total: 3 ms\n",
      "Wall time: 2.66 ms\n"
     ]
    }
   ],
   "source": [
    "%%time\n",
    "MONITORING_STATION = (20, 19)\n",
    "REMAINING_ASTEROIDS = asteroid_set-{MONITORING_STATION}\n",
    "\n",
    "def l1(p1, p2):\n",
    "    return abs(p1[X]-p2[X])+abs(p1[Y]-p2[Y])\n",
    "\n",
    "def calc_slope_and_dist(p1, p2):\n",
    "    dist = l1(p1,p2)\n",
    "    if(p1[X]-p2[X] == 0):\n",
    "        return (np.inf, '+' if (p1[Y]-p2[Y]) > 0 else '-', dist)\n",
    "    if(p1[Y]-p2[Y]==0):\n",
    "        return (0, '-' if (p1[X]-p2[X]) > 0 else '+', dist)\n",
    "    return (-(p1[Y]-p2[Y])/(p1[X]-p2[X]), '-' if (p1[X]-p2[X]) > 0 else '+', dist)\n",
    "\n",
    "visible_list = [(asteroid, calc_slope_and_dist(MONITORING_STATION, asteroid)) for asteroid in REMAINING_ASTEROIDS]\n",
    "visible_list.sort(key=lambda k: (sort_order[k[1][1]], k[1][0], -k[1][2]), reverse=True)\n",
    "\n",
    "visible_stacked = [list(g) for k, g in itertools.groupby(visible_list, key=lambda k: k[1][:1])]\n",
    "two_hundredth_vape = visible_stacked[199][0][0]\n",
    "\n",
    "output_val = two_hundredth_vape[0]*100+two_hundredth_vape[1]\n",
    "\n",
    "print_result(output_val)"
   ]
  },
  {
   "cell_type": "markdown",
   "metadata": {},
   "source": [
    "## Day 11: Space Police"
   ]
  },
  {
   "cell_type": "markdown",
   "metadata": {},
   "source": [
    "### setup "
   ]
  },
  {
   "cell_type": "code",
   "execution_count": 35,
   "metadata": {},
   "outputs": [],
   "source": [
    "paint_prog = get_level_input(\"11\")\n",
    "paint_prog = list(map(int, paint_prog.split(',')))\n",
    "paint_prog = tuple(paint_prog)\n",
    "\n",
    "BLACK = 0\n",
    "WHITE = 1\n",
    "DIRECTIONS = ['^','>','v', '<']\n",
    "DIR_MOVE = {\n",
    "    '^': [0, 1],\n",
    "    '>': [1, 0],\n",
    "    'v': [0, -1],\n",
    "    '<': [-1, 0]\n",
    "}\n",
    "\n",
    "ROTATE = {\n",
    "    0: -1,\n",
    "    1: 1\n",
    "}"
   ]
  },
  {
   "cell_type": "markdown",
   "metadata": {},
   "source": [
    "### part one "
   ]
  },
  {
   "cell_type": "code",
   "execution_count": 45,
   "metadata": {},
   "outputs": [
    {
     "name": "stdout",
     "output_type": "stream",
     "text": [
      "CPU times: user 378 ms, sys: 2.95 ms, total: 381 ms\n",
      "Wall time: 382 ms\n"
     ]
    },
    {
     "data": {
      "text/plain": [
       "2293"
      ]
     },
     "execution_count": 45,
     "metadata": {},
     "output_type": "execute_result"
    }
   ],
   "source": [
    "%%time\n",
    "robot_position = [0,0, '^']\n",
    "white_set = set()\n",
    "black_set = {(0,0)}\n",
    "\n",
    "def get_color(rob_pos):\n",
    "    if rob_pos in white_set:\n",
    "        return WHITE\n",
    "    return BLACK\n",
    "\n",
    "def add_color(output, white_set, black_set, robot_position):\n",
    "    cur_point = tuple(robot_position[:2])\n",
    "    white_set-={cur_point}\n",
    "    black_set-={cur_point}\n",
    "    if(output==WHITE):\n",
    "        white_set.add(cur_point)\n",
    "    if(output==BLACK):\n",
    "        black_set.add(cur_point)\n",
    "        \n",
    "def move_robot(output, robot_position):\n",
    "    direction = robot_position[-1]\n",
    "    dir_index = DIRECTIONS.index(direction)\n",
    "    new_dir = DIRECTIONS[(dir_index+ROTATE[output])%len(DIRECTIONS)]\n",
    "    return list(map(sum, zip(*[robot_position[:2], DIR_MOVE[new_dir]])))+[new_dir]\n",
    "    \n",
    "def run_robot(robot_position, white_set, black_set):\n",
    "    paint_prog_ex = list(paint_prog)+[0 for _ in range(100000)]\n",
    "    ip = 0\n",
    "    while(True):\n",
    "        current_color = get_color(tuple(robot_position[:2]))\n",
    "        cur_input = [current_color for x in range(10)]\n",
    "        ip, outputs = intcomp.run_computer(paint_prog_ex, cur_input, ip = ip, return_on_output=True)\n",
    "        if outputs == []:\n",
    "            break\n",
    "        add_color(outputs[0], white_set, black_set, robot_position)\n",
    "        ip, outputs = intcomp.run_computer(paint_prog_ex, cur_input, ip = ip, return_on_output=True)\n",
    "        if outputs == []:\n",
    "            break\n",
    "        robot_position = move_robot(outputs[0], robot_position)\n",
    "    return len(white_set)+len(black_set)\n",
    "\n",
    "run_robot(robot_position, white_set, black_set)"
   ]
  },
  {
   "cell_type": "markdown",
   "metadata": {},
   "source": [
    "### part one "
   ]
  },
  {
   "cell_type": "code",
   "execution_count": 47,
   "metadata": {},
   "outputs": [
    {
     "name": "stdout",
     "output_type": "stream",
     "text": [
      "1\n",
      "white set: {(0, 0)}\n",
      "black set: set()\n",
      "(0, 0)\n",
      "\n",
      "FULL ROUND\n",
      "input: 1\n",
      "paint_stage\n",
      "output: [0]\n",
      "robot pos: [0, 0, '^']\n",
      "white set: set()\n",
      "black set: {(0, 0)}\n",
      "move_stage\n",
      "output: [1]\n",
      "robot pos: [1, 0, '>']\n",
      "\n",
      "0\n",
      "white set: set()\n",
      "black set: {(0, 0)}\n",
      "(1, 0)\n",
      "\n",
      "FULL ROUND\n",
      "input: 0\n",
      "paint_stage\n",
      "output: [0]\n",
      "robot pos: [1, 0, '>']\n",
      "white set: set()\n",
      "black set: {(1, 0), (0, 0)}\n",
      "move_stage\n",
      "output: [1]\n",
      "robot pos: [1, -1, 'v']\n",
      "\n",
      "0\n",
      "white set: set()\n",
      "black set: {(1, 0), (0, 0)}\n",
      "(1, -1)\n",
      "\n"
     ]
    },
    {
     "ename": "KeyError",
     "evalue": "36",
     "output_type": "error",
     "traceback": [
      "\u001b[0;31m---------------------------------------------------------------------------\u001b[0m",
      "\u001b[0;31mKeyError\u001b[0m                                  Traceback (most recent call last)",
      "\u001b[0;32m<timed exec>\u001b[0m in \u001b[0;36m<module>\u001b[0;34m\u001b[0m\n",
      "\u001b[0;32m<timed exec>\u001b[0m in \u001b[0;36mrun_robot\u001b[0;34m(robot_position, white_set, black_set)\u001b[0m\n",
      "\u001b[0;32m~/Desktop/hobbies/code/jupyter-notebooks/advent_2019/intcomp.py\u001b[0m in \u001b[0;36mrun_computer\u001b[0;34m(comp_string, c_i, ip, rel_base, print_output, return_on_output)\u001b[0m\n\u001b[1;32m    107\u001b[0m         \u001b[0minput_modes\u001b[0m \u001b[0;34m=\u001b[0m \u001b[0;34m[\u001b[0m\u001b[0mint\u001b[0m\u001b[0;34m(\u001b[0m\u001b[0mopcode_and_settings\u001b[0m\u001b[0;34m[\u001b[0m\u001b[0;34m-\u001b[0m\u001b[0;36m3\u001b[0m\u001b[0;34m]\u001b[0m\u001b[0;34m)\u001b[0m\u001b[0;34m,\u001b[0m \u001b[0mint\u001b[0m\u001b[0;34m(\u001b[0m\u001b[0mopcode_and_settings\u001b[0m\u001b[0;34m[\u001b[0m\u001b[0;34m-\u001b[0m\u001b[0;36m4\u001b[0m\u001b[0;34m]\u001b[0m\u001b[0;34m)\u001b[0m\u001b[0;34m,\u001b[0m \u001b[0mint\u001b[0m\u001b[0;34m(\u001b[0m\u001b[0mopcode_and_settings\u001b[0m\u001b[0;34m[\u001b[0m\u001b[0;34m-\u001b[0m\u001b[0;36m5\u001b[0m\u001b[0;34m]\u001b[0m\u001b[0;34m)\u001b[0m\u001b[0;34m]\u001b[0m\u001b[0;34m\u001b[0m\u001b[0;34m\u001b[0m\u001b[0m\n\u001b[1;32m    108\u001b[0m \u001b[0;34m\u001b[0m\u001b[0m\n\u001b[0;32m--> 109\u001b[0;31m         \u001b[0mwindow_size\u001b[0m \u001b[0;34m=\u001b[0m \u001b[0moperation_length\u001b[0m\u001b[0;34m[\u001b[0m\u001b[0mopcode\u001b[0m\u001b[0;34m]\u001b[0m\u001b[0;34m\u001b[0m\u001b[0;34m\u001b[0m\u001b[0m\n\u001b[0m\u001b[1;32m    110\u001b[0m         \u001b[0mwin\u001b[0m \u001b[0;34m=\u001b[0m \u001b[0mcomp_string\u001b[0m\u001b[0;34m[\u001b[0m\u001b[0mip\u001b[0m\u001b[0;34m:\u001b[0m \u001b[0mip\u001b[0m\u001b[0;34m+\u001b[0m\u001b[0mwindow_size\u001b[0m\u001b[0;34m]\u001b[0m\u001b[0;34m\u001b[0m\u001b[0;34m\u001b[0m\u001b[0m\n\u001b[1;32m    111\u001b[0m         \u001b[0mip\u001b[0m \u001b[0;34m+=\u001b[0m \u001b[0mwindow_size\u001b[0m\u001b[0;34m\u001b[0m\u001b[0;34m\u001b[0m\u001b[0m\n",
      "\u001b[0;31mKeyError\u001b[0m: 36"
     ]
    }
   ],
   "source": [
    "%%time\n",
    "robot_position = [0,0, '^']\n",
    "white_set = {(0,0)}\n",
    "black_set = set()\n",
    "\n",
    "def get_color(rob_pos):\n",
    "    if rob_pos in white_set:\n",
    "        return WHITE\n",
    "    return BLACK\n",
    "\n",
    "def add_color(output, white_set, black_set, robot_position):\n",
    "    cur_point = tuple(robot_position[:2])\n",
    "    white_set-={cur_point}\n",
    "    black_set-={cur_point}\n",
    "    if(output==WHITE):\n",
    "        white_set.add(cur_point)\n",
    "    if(output==BLACK):\n",
    "        black_set.add(cur_point)\n",
    "        \n",
    "def move_robot(output, robot_position):\n",
    "    direction = robot_position[-1]\n",
    "    dir_index = DIRECTIONS.index(direction)\n",
    "    new_dir = DIRECTIONS[(dir_index+ROTATE[output])%len(DIRECTIONS)]\n",
    "    return list(map(sum, zip(*[robot_position[:2], DIR_MOVE[new_dir]])))+[new_dir]\n",
    "    \n",
    "def run_robot(robot_position, white_set, black_set):\n",
    "    paint_prog_ex = list(paint_prog)+[0 for _ in range(100000)]\n",
    "    ip = 0\n",
    "    while(True):\n",
    "        current_color = get_color(tuple(robot_position[:2]))\n",
    "        print(current_color)\n",
    "        print(f\"white set: {white_set}\")\n",
    "        print(f\"black set: {black_set}\")\n",
    "        print(tuple(robot_position[:2]))\n",
    "        print()\n",
    "        cur_input = [current_color for x in range(10)]\n",
    "        ip, outputs = intcomp.run_computer(paint_prog_ex, cur_input, ip = ip, return_on_output=True)\n",
    "        if outputs == []:\n",
    "            break\n",
    "        print(f\"FULL ROUND\")\n",
    "        print(f\"input: {cur_input[0]}\")\n",
    "        print(f\"paint_stage\")\n",
    "        print(f\"output: {outputs}\")\n",
    "        add_color(outputs[0], white_set, black_set, robot_position)\n",
    "        print(f\"robot pos: {robot_position}\")\n",
    "        print(f\"white set: {white_set}\")\n",
    "        print(f\"black set: {black_set}\")\n",
    "        ip, outputs = intcomp.run_computer(paint_prog_ex, cur_input, ip = ip, return_on_output=True)\n",
    "        if outputs == []:\n",
    "            break\n",
    "        print(f\"move_stage\")\n",
    "        print(f\"output: {outputs}\")\n",
    "        robot_position = move_robot(outputs[0], robot_position)\n",
    "        print(f\"robot pos: {robot_position}\")\n",
    "        print()\n",
    "    return len(white_set)+len(black_set)\n",
    "\n",
    "run_robot(robot_position, white_set, black_set)"
   ]
  },
  {
   "cell_type": "code",
   "execution_count": null,
   "metadata": {},
   "outputs": [],
   "source": []
  }
 ],
 "metadata": {
  "kernelspec": {
   "display_name": "Python 3",
   "language": "python",
   "name": "python3"
  },
  "language_info": {
   "codemirror_mode": {
    "name": "ipython",
    "version": 3
   },
   "file_extension": ".py",
   "mimetype": "text/x-python",
   "name": "python",
   "nbconvert_exporter": "python",
   "pygments_lexer": "ipython3",
   "version": "3.8.0"
  },
  "toc-autonumbering": false,
  "toc-showcode": false,
  "toc-showmarkdowntxt": false,
  "toc-showtags": false
 },
 "nbformat": 4,
 "nbformat_minor": 4
}
